{
 "cells": [
  {
   "cell_type": "code",
   "execution_count": 0,
   "metadata": {
    "colab": {},
    "colab_type": "code",
    "id": "ztX9SNz1omBP"
   },
   "outputs": [],
   "source": []
  },
  {
   "cell_type": "code",
   "execution_count": 0,
   "metadata": {
    "colab": {},
    "colab_type": "code",
    "id": "2FhK7DoRsSJJ"
   },
   "outputs": [],
   "source": []
  },
  {
   "cell_type": "code",
   "execution_count": 0,
   "metadata": {
    "colab": {},
    "colab_type": "code",
    "id": "Q3jPP1o4sSMF"
   },
   "outputs": [],
   "source": [
    "from selenium import webdriver\n",
    "from selenium.webdriver.common.keys import Keys\n",
    "import time \n",
    "import random, string\n",
    "import pyodbc \n",
    "import xlrd \n",
    "import pandas as pd\n",
    "\n",
    "from selenium.webdriver.common.action_chains import ActionChains\n",
    "\n",
    "from pyvirtualdisplay import Display"
   ]
  },
  {
   "cell_type": "code",
   "execution_count": 0,
   "metadata": {
    "colab": {},
    "colab_type": "code",
    "id": "hc82oG9usV3f"
   },
   "outputs": [],
   "source": [
    "def scrollDown(elemento, numberOfScrollDowns):\n",
    "    while numberOfScrollDowns >=0:\n",
    "        elemento.send_keys(Keys.PAGE_DOWN)\n",
    "        numberOfScrollDowns -= 1\n",
    "        time.sleep(3)\n",
    "    return "
   ]
  },
  {
   "cell_type": "code",
   "execution_count": 0,
   "metadata": {
    "colab": {},
    "colab_type": "code",
    "id": "YS1drtTmsXw7"
   },
   "outputs": [],
   "source": [
    "driver = webdriver.Chrome()\n",
    "\n",
    "#cuantos reviews quiero revisar\n",
    "cant_reviews = 30\n",
    "cant_bucle= cant_reviews//5 + 1\n",
    "\n",
    "driver.set_page_load_timeout(60*60)\n",
    "\n",
    "driver.get(\"https://www.google.com/maps/place/Punto+Italiano/@-12.083704,-76.9528606,13.5z/data=!4m8!1m2!2m1!1sRestaurantes!3m4!1s0x0:0x52bd8b6ef3afb2c3!8m2!3d-12.0739552!4d-76.936537\")\n",
    "\n",
    "#driver.maximize_window()\n",
    "\n",
    "driver.implicitly_wait(40*60)\n",
    "\n",
    "time.sleep(5)\n",
    "\n",
    "driver.execute_script(\"document.querySelector('button[aria-label=\\\"Ver todas las opiniones\\\"]').click();\");\n",
    "\n",
    "elemento = driver.find_element_by_xpath(\"//div[contains(@class,'section-layout section-scrollbox scrollable-y scrollable-show')]\")\n",
    "\n",
    "scrollDown(elemento, cant_bucle)\n",
    "\n",
    "reviewCount = len(driver.find_elements_by_xpath(\"//div[@class='section-review ripple-container']\"))\n",
    "print(reviewCount)\n",
    "while reviewCount < cant_reviews:\n",
    "    cant_bucle= cant_reviews//5 + 1\n",
    "    scrollDown(elemento, cant_bucle)\n",
    "    reviewCount = len(driver.find_elements_by_xpath(\"//div[@class='section-review ripple-container']\"))\n",
    "    print(reviewCount)"
   ]
  },
  {
   "cell_type": "code",
   "execution_count": 0,
   "metadata": {
    "colab": {},
    "colab_type": "code",
    "id": "G-1VzVO2sd6O"
   },
   "outputs": [],
   "source": []
  },
  {
   "cell_type": "code",
   "execution_count": 0,
   "metadata": {
    "colab": {},
    "colab_type": "code",
    "id": "dxcSY7yosd8y"
   },
   "outputs": [],
   "source": []
  },
  {
   "cell_type": "code",
   "execution_count": 0,
   "metadata": {
    "colab": {},
    "colab_type": "code",
    "id": "qqQDjHNDsd_S"
   },
   "outputs": [],
   "source": []
  },
  {
   "cell_type": "code",
   "execution_count": 0,
   "metadata": {
    "colab": {},
    "colab_type": "code",
    "id": "VJeknmZZseB2"
   },
   "outputs": [],
   "source": []
  },
  {
   "cell_type": "code",
   "execution_count": 0,
   "metadata": {
    "colab": {},
    "colab_type": "code",
    "id": "m6ID4GKMseEg"
   },
   "outputs": [],
   "source": []
  },
  {
   "cell_type": "code",
   "execution_count": 0,
   "metadata": {
    "colab": {},
    "colab_type": "code",
    "id": "sixFT97wseGt"
   },
   "outputs": [],
   "source": []
  },
  {
   "cell_type": "code",
   "execution_count": 0,
   "metadata": {
    "colab": {},
    "colab_type": "code",
    "id": "WQQzPdWiseJV"
   },
   "outputs": [],
   "source": []
  },
  {
   "cell_type": "code",
   "execution_count": 0,
   "metadata": {
    "colab": {},
    "colab_type": "code",
    "id": "89mS8WQ5seLk"
   },
   "outputs": [],
   "source": [
    "from selenium import webdriver\n",
    "from selenium.webdriver.support import ui\n",
    "import pandas as pd\n",
    "\n",
    "link = 'https://www.google.com.bd/maps/search/Florida+coffee/@27.604325,-80.9640709,9z/data=!3m1!4b1?hl=en'\n",
    "\n",
    "driver = webdriver.Chrome()\n",
    "driver.get(link)\n",
    "wait = ui.WebDriverWait(driver, 10)\n",
    "elem = [item.text for item in wait.until(lambda driver: driver.find_elements_by_css_selector(\"h3.section-result-title\"))]\n",
    "df = pd.DataFrame(elem)\n",
    "print(df)"
   ]
  }
 ],
 "metadata": {
  "colab": {
   "collapsed_sections": [],
   "name": "nombres.ipynb",
   "provenance": []
  },
  "kernelspec": {
   "display_name": "Python 3",
   "language": "python",
   "name": "python3"
  },
  "language_info": {
   "codemirror_mode": {
    "name": "ipython",
    "version": 3
   },
   "file_extension": ".py",
   "mimetype": "text/x-python",
   "name": "python",
   "nbconvert_exporter": "python",
   "pygments_lexer": "ipython3",
   "version": "3.6.3"
  }
 },
 "nbformat": 4,
 "nbformat_minor": 1
}
